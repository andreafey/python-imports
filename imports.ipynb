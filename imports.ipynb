{
 "cells": [
  {
   "cell_type": "code",
   "execution_count": 1,
   "metadata": {
    "collapsed": false
   },
   "outputs": [],
   "source": [
    "import example1.foo.a\n",
    "\n",
    "a = example1.foo.a.A('hi')\n",
    "a.set_b()\n",
    "\n",
    "print a.a\n",
    "print a.b.b"
   ]
  },
  {
   "cell_type": "code",
   "execution_count": 2,
   "metadata": {
    "collapsed": false
   },
   "outputs": [],
   "source": [
    "import example2.foo.a\n",
    "\n",
    "a = example1.foo.a.A('hi')\n",
    "a.set_b()\n",
    "\n",
    "print a.a\n",
    "print a.b.b"
   ]
  },
  {
   "cell_type": "code",
   "execution_count": 3,
   "metadata": {
    "collapsed": false
   },
   "outputs": [],
   "source": [
    "import example3.foo.a\n",
    "\n",
    "a = example1.foo.a.A('hi')\n",
    "a.set_b()\n",
    "\n",
    "print a.a\n",
    "print a.b.b"
   ]
  },
  {
   "cell_type": "code",
   "execution_count": 4,
   "metadata": {
    "collapsed": false
   },
   "outputs": [],
   "source": [
    "import example4.foo.a\n",
    "\n",
    "a = example1.foo.a.A('hi')\n",
    "a.set_b()\n",
    "\n",
    "print a.a\n",
    "print a.b.b"
   ]
  },
  {
   "cell_type": "code",
   "execution_count": 5,
   "metadata": {
    "collapsed": false
   },
   "outputs": [],
   "source": [
    "import example5.foo.a\n",
    "\n",
    "a = example1.foo.a.A('hi')\n",
    "a.set_b()\n",
    "\n",
    "print a.a\n",
    "print a.b.b"
   ]
  },
  {
   "cell_type": "code",
   "execution_count": 9,
   "metadata": {
    "collapsed": false
   },
   "outputs": [],
   "source": [
    "import example6.foo.a\n",
    "\n",
    "a = example1.foo.a.A('hi')\n",
    "a.set_b()\n",
    "\n",
    "print a.a\n",
    "print a.b.b"
   ]
  },
  {
   "cell_type": "code",
   "execution_count": 10,
   "metadata": {
    "collapsed": false
   },
   "outputs": [],
   "source": [
    "import example7.foo.a\n",
    "\n",
    "a = example1.foo.a.A('hi')\n",
    "a.set_b()\n",
    "\n",
    "print a.a\n",
    "print a.b.b"
   ]
  },
  {
   "cell_type": "code",
   "execution_count": null,
   "metadata": {
    "collapsed": true
   },
   "outputs": [],
   "source": [
    "print 'hi'"
   ]
  },
  {
   "cell_type": "code",
   "execution_count": null,
   "metadata": {
    "collapsed": true
   },
   "outputs": [],
   "source": [
    "from __future__ import print_function\n",
    "\n",
    "print 'hi'"
   ]
  }
 ],
 "metadata": {
  "kernelspec": {
   "display_name": "Python 2",
   "language": "python",
   "name": "python2"
  },
  "language_info": {
   "codemirror_mode": {
    "name": "ipython",
    "version": 2
   },
   "file_extension": ".py",
   "mimetype": "text/x-python",
   "name": "python",
   "nbconvert_exporter": "python",
   "pygments_lexer": "ipython2",
   "version": "2.7.10"
  }
 },
 "nbformat": 4,
 "nbformat_minor": 0
}
